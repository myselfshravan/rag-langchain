{
 "cells": [
  {
   "cell_type": "code",
   "execution_count": 12,
   "id": "initial_id",
   "metadata": {
    "collapsed": true,
    "ExecuteTime": {
     "end_time": "2024-03-03T08:41:40.514420Z",
     "start_time": "2024-03-03T08:41:40.484571Z"
    }
   },
   "outputs": [
    {
     "data": {
      "text/plain": "            author                                            comment  likes  \\\n0           @RSRye    Releasing an already released movie is so Tenet      0   \n1     @NobleRaider  Already saw the re-release, can't wait for the...      0   \n2   @RoflMaiWaffel  They're not actually screening the movie, they...    189   \n3  @johndavidbuell  took me months to realize that \"tenet\" is refe...    420   \n4         @rabe777  This is the real release date. Going to the ci...      0   \n\n                    age  \n0           1 month ago  \n1           1 month ago  \n2  1 month ago (edited)  \n3           1 month ago  \n4           1 month ago  ",
      "text/html": "<div>\n<style scoped>\n    .dataframe tbody tr th:only-of-type {\n        vertical-align: middle;\n    }\n\n    .dataframe tbody tr th {\n        vertical-align: top;\n    }\n\n    .dataframe thead th {\n        text-align: right;\n    }\n</style>\n<table border=\"1\" class=\"dataframe\">\n  <thead>\n    <tr style=\"text-align: right;\">\n      <th></th>\n      <th>author</th>\n      <th>comment</th>\n      <th>likes</th>\n      <th>age</th>\n    </tr>\n  </thead>\n  <tbody>\n    <tr>\n      <th>0</th>\n      <td>@RSRye</td>\n      <td>Releasing an already released movie is so Tenet</td>\n      <td>0</td>\n      <td>1 month ago</td>\n    </tr>\n    <tr>\n      <th>1</th>\n      <td>@NobleRaider</td>\n      <td>Already saw the re-release, can't wait for the...</td>\n      <td>0</td>\n      <td>1 month ago</td>\n    </tr>\n    <tr>\n      <th>2</th>\n      <td>@RoflMaiWaffel</td>\n      <td>They're not actually screening the movie, they...</td>\n      <td>189</td>\n      <td>1 month ago (edited)</td>\n    </tr>\n    <tr>\n      <th>3</th>\n      <td>@johndavidbuell</td>\n      <td>took me months to realize that \"tenet\" is refe...</td>\n      <td>420</td>\n      <td>1 month ago</td>\n    </tr>\n    <tr>\n      <th>4</th>\n      <td>@rabe777</td>\n      <td>This is the real release date. Going to the ci...</td>\n      <td>0</td>\n      <td>1 month ago</td>\n    </tr>\n  </tbody>\n</table>\n</div>"
     },
     "execution_count": 12,
     "metadata": {},
     "output_type": "execute_result"
    }
   ],
   "source": [
    "import json\n",
    "import pandas as pd\n",
    "\n",
    "filename = 'TENET_Re-Release_Trailer_-_YouTube.json'\n",
    "data = pd.read_json(filename, orient='records', lines=False)\n",
    "data.head()"
   ]
  },
  {
   "cell_type": "code",
   "outputs": [
    {
     "name": "stdout",
     "output_type": "stream",
     "text": [
      "I freaking love this movie, wish it got the sequel prequel it deserved\n",
      "526\n",
      "-------------------\n",
      "An absolute underrated masterpiece\n",
      "444\n",
      "-------------------\n",
      "took me months to realize that \"tenet\" is referring to the final mission (ten forward and backward, referring to the regular and inverted team's synchronized ten-minute timers)\n",
      "420\n",
      "-------------------\n",
      "I saw this masterpiece in 2020 in one of the few counties of my state allowed to open a movie theater. It's worth seeing in IMAX. Even if you've seen it on streaming.\n",
      "270\n",
      "-------------------\n",
      "They're not actually screening the movie, they're putting you into the turnstile and sending you back to 2020 when the film releases\n",
      "189\n",
      "-------------------\n",
      "If they re-mix the sound and dialogue for this release, it’ll definitely be a must watch in IMAX for me\n",
      "174\n",
      "-------------------\n",
      "That last shot still gets me to this day\n",
      "128\n",
      "-------------------\n",
      "Amazing blockbuster. Can't wait to see it again. Nolan is the genius!\n",
      "92\n",
      "-------------------\n",
      "Tenet was absolutely amazing, the opening sequence alone was so epic, I remember watching it in cinemas back during the Covid-19 pandemic, happy more people will get the chance to watch it who missed it back then.\n",
      "85\n",
      "-------------------\n",
      "I love this movie. The directing, the film editing, the cinematography, everything\n",
      "82\n",
      "-------------------\n"
     ]
    }
   ],
   "source": [
    "# Sort by highest \"likes\" column\n",
    "data = data.sort_values(by='likes', ascending=False)\n",
    "\n",
    "# Iterate through the sorted data and print comments with the highest likes\n",
    "for index, row in data.head(10).iterrows():\n",
    "    print(row['comment'])\n",
    "    print(row['likes'])\n",
    "    print('-------------------')\n"
   ],
   "metadata": {
    "collapsed": false,
    "ExecuteTime": {
     "end_time": "2024-03-03T08:46:41.431729Z",
     "start_time": "2024-03-03T08:46:41.417554Z"
    }
   },
   "id": "383d65b397038817",
   "execution_count": 28
  },
  {
   "cell_type": "code",
   "outputs": [
    {
     "data": {
      "text/plain": "               author                                            comment  \\\n20  @peterpilgrim3377  I freaking love this movie, wish it got the se...   \n17     @Lumi-OF-Model                 An absolute underrated masterpiece   \n3     @johndavidbuell  took me months to realize that \"tenet\" is refe...   \n16     @velvetsky5117  I saw this masterpiece in 2020 in one of the f...   \n2      @RoflMaiWaffel  They're not actually screening the movie, they...   \n\n    likes                   age  \n20    526           1 month ago  \n17    444           1 month ago  \n3     420           1 month ago  \n16    270           1 month ago  \n2     189  1 month ago (edited)  ",
      "text/html": "<div>\n<style scoped>\n    .dataframe tbody tr th:only-of-type {\n        vertical-align: middle;\n    }\n\n    .dataframe tbody tr th {\n        vertical-align: top;\n    }\n\n    .dataframe thead th {\n        text-align: right;\n    }\n</style>\n<table border=\"1\" class=\"dataframe\">\n  <thead>\n    <tr style=\"text-align: right;\">\n      <th></th>\n      <th>author</th>\n      <th>comment</th>\n      <th>likes</th>\n      <th>age</th>\n    </tr>\n  </thead>\n  <tbody>\n    <tr>\n      <th>20</th>\n      <td>@peterpilgrim3377</td>\n      <td>I freaking love this movie, wish it got the se...</td>\n      <td>526</td>\n      <td>1 month ago</td>\n    </tr>\n    <tr>\n      <th>17</th>\n      <td>@Lumi-OF-Model</td>\n      <td>An absolute underrated masterpiece</td>\n      <td>444</td>\n      <td>1 month ago</td>\n    </tr>\n    <tr>\n      <th>3</th>\n      <td>@johndavidbuell</td>\n      <td>took me months to realize that \"tenet\" is refe...</td>\n      <td>420</td>\n      <td>1 month ago</td>\n    </tr>\n    <tr>\n      <th>16</th>\n      <td>@velvetsky5117</td>\n      <td>I saw this masterpiece in 2020 in one of the f...</td>\n      <td>270</td>\n      <td>1 month ago</td>\n    </tr>\n    <tr>\n      <th>2</th>\n      <td>@RoflMaiWaffel</td>\n      <td>They're not actually screening the movie, they...</td>\n      <td>189</td>\n      <td>1 month ago (edited)</td>\n    </tr>\n  </tbody>\n</table>\n</div>"
     },
     "execution_count": 24,
     "metadata": {},
     "output_type": "execute_result"
    }
   ],
   "source": [
    "# create a new data with sored likes count\n",
    "sorted_data = data.sort_values(by='likes', ascending=False)\n",
    "sorted_data.head()\n"
   ],
   "metadata": {
    "collapsed": false,
    "ExecuteTime": {
     "end_time": "2024-03-03T08:45:31.000424Z",
     "start_time": "2024-03-03T08:45:30.977224Z"
    }
   },
   "id": "8d3b98d3c13a7122",
   "execution_count": 24
  }
 ],
 "metadata": {
  "kernelspec": {
   "display_name": "Python 3",
   "language": "python",
   "name": "python3"
  },
  "language_info": {
   "codemirror_mode": {
    "name": "ipython",
    "version": 2
   },
   "file_extension": ".py",
   "mimetype": "text/x-python",
   "name": "python",
   "nbconvert_exporter": "python",
   "pygments_lexer": "ipython2",
   "version": "2.7.6"
  }
 },
 "nbformat": 4,
 "nbformat_minor": 5
}
