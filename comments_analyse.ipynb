{
 "cells": [
  {
   "cell_type": "code",
   "execution_count": 5,
   "id": "initial_id",
   "metadata": {
    "collapsed": true,
    "ExecuteTime": {
     "end_time": "2024-03-03T08:25:52.687231Z",
     "start_time": "2024-03-03T08:25:52.668801Z"
    }
   },
   "outputs": [
    {
     "data": {
      "text/plain": "              author                                            comment  \\\n0      @joshuajo9649  One of the sweetest entrepreneurs. It's so cut...   \n1        @diamond852  Mark really liked her. He even said no to nego...   \n2  @maanaspisati9315  I've gotta say, her initial counter really cau...   \n3   @rizzmendoza8241  Who else turns on shark tank while they eat lu...   \n4             @e46in  Mark: This program is great, my kids love it, ...   \n\n   likes                  age  \n0      0  1 year ago (edited)  \n1      0  1 year ago (edited)  \n2      0           1 year ago  \n3      0           1 year ago  \n4      0           1 year ago  ",
      "text/html": "<div>\n<style scoped>\n    .dataframe tbody tr th:only-of-type {\n        vertical-align: middle;\n    }\n\n    .dataframe tbody tr th {\n        vertical-align: top;\n    }\n\n    .dataframe thead th {\n        text-align: right;\n    }\n</style>\n<table border=\"1\" class=\"dataframe\">\n  <thead>\n    <tr style=\"text-align: right;\">\n      <th></th>\n      <th>author</th>\n      <th>comment</th>\n      <th>likes</th>\n      <th>age</th>\n    </tr>\n  </thead>\n  <tbody>\n    <tr>\n      <th>0</th>\n      <td>@joshuajo9649</td>\n      <td>One of the sweetest entrepreneurs. It's so cut...</td>\n      <td>0</td>\n      <td>1 year ago (edited)</td>\n    </tr>\n    <tr>\n      <th>1</th>\n      <td>@diamond852</td>\n      <td>Mark really liked her. He even said no to nego...</td>\n      <td>0</td>\n      <td>1 year ago (edited)</td>\n    </tr>\n    <tr>\n      <th>2</th>\n      <td>@maanaspisati9315</td>\n      <td>I've gotta say, her initial counter really cau...</td>\n      <td>0</td>\n      <td>1 year ago</td>\n    </tr>\n    <tr>\n      <th>3</th>\n      <td>@rizzmendoza8241</td>\n      <td>Who else turns on shark tank while they eat lu...</td>\n      <td>0</td>\n      <td>1 year ago</td>\n    </tr>\n    <tr>\n      <th>4</th>\n      <td>@e46in</td>\n      <td>Mark: This program is great, my kids love it, ...</td>\n      <td>0</td>\n      <td>1 year ago</td>\n    </tr>\n  </tbody>\n</table>\n</div>"
     },
     "execution_count": 5,
     "metadata": {},
     "output_type": "execute_result"
    }
   ],
   "source": [
    "import json\n",
    "import pandas as pd\n",
    "\n",
    "filename = 'The_Most_Intense_Negotiation_Between_Hopscotch_Owner_and_Mark_Cuban_Shark_Tank_US_-_YouTube.json'\n",
    "data = pd.read_json(filename, orient='records', lines=False)\n",
    "data.head()"
   ]
  },
  {
   "cell_type": "code",
   "outputs": [
    {
     "data": {
      "text/plain": "                author                                            comment  \\\n56             @B10023  Love how 50k more is nothing to Mark. He proba...   \n5        @frigityfresh  Her initial counter almost cost her everything...   \n15     @benchamser4127  Good for her for knowing what her business is ...   \n6        @haydeefm7414  Awesome in so many ways: her, for standing her...   \n8     @xxtripl3thr33xx  Is this the first time I’ve seen Mark actually...   \n..                 ...                                                ...   \n429     @audeliocerezo                            Shark Tank inspires me.   \n430  @stevenfagaly3810  Anyone else shocked how touchy feely the major...   \n431        @iftekhar77  I’m a softy I’ll just get emotional seeing ppl...   \n435             @JJ_LL  They can trademark Hopscotch??????? I see laws...   \n876   @tashisherpa6327  Do some historical research first, you don't k...   \n\n     likes           age  \n56     776    1 year ago  \n5      712    1 year ago  \n15     701    1 year ago  \n6      637    1 year ago  \n8      603    1 year ago  \n..     ...           ...  \n429      0  7 months ago  \n430      0    1 year ago  \n431      0    1 year ago  \n435      0    1 year ago  \n876      0    1 year ago  \n\n[877 rows x 4 columns]",
      "text/html": "<div>\n<style scoped>\n    .dataframe tbody tr th:only-of-type {\n        vertical-align: middle;\n    }\n\n    .dataframe tbody tr th {\n        vertical-align: top;\n    }\n\n    .dataframe thead th {\n        text-align: right;\n    }\n</style>\n<table border=\"1\" class=\"dataframe\">\n  <thead>\n    <tr style=\"text-align: right;\">\n      <th></th>\n      <th>author</th>\n      <th>comment</th>\n      <th>likes</th>\n      <th>age</th>\n    </tr>\n  </thead>\n  <tbody>\n    <tr>\n      <th>56</th>\n      <td>@B10023</td>\n      <td>Love how 50k more is nothing to Mark. He proba...</td>\n      <td>776</td>\n      <td>1 year ago</td>\n    </tr>\n    <tr>\n      <th>5</th>\n      <td>@frigityfresh</td>\n      <td>Her initial counter almost cost her everything...</td>\n      <td>712</td>\n      <td>1 year ago</td>\n    </tr>\n    <tr>\n      <th>15</th>\n      <td>@benchamser4127</td>\n      <td>Good for her for knowing what her business is ...</td>\n      <td>701</td>\n      <td>1 year ago</td>\n    </tr>\n    <tr>\n      <th>6</th>\n      <td>@haydeefm7414</td>\n      <td>Awesome in so many ways: her, for standing her...</td>\n      <td>637</td>\n      <td>1 year ago</td>\n    </tr>\n    <tr>\n      <th>8</th>\n      <td>@xxtripl3thr33xx</td>\n      <td>Is this the first time I’ve seen Mark actually...</td>\n      <td>603</td>\n      <td>1 year ago</td>\n    </tr>\n    <tr>\n      <th>...</th>\n      <td>...</td>\n      <td>...</td>\n      <td>...</td>\n      <td>...</td>\n    </tr>\n    <tr>\n      <th>429</th>\n      <td>@audeliocerezo</td>\n      <td>Shark Tank inspires me.</td>\n      <td>0</td>\n      <td>7 months ago</td>\n    </tr>\n    <tr>\n      <th>430</th>\n      <td>@stevenfagaly3810</td>\n      <td>Anyone else shocked how touchy feely the major...</td>\n      <td>0</td>\n      <td>1 year ago</td>\n    </tr>\n    <tr>\n      <th>431</th>\n      <td>@iftekhar77</td>\n      <td>I’m a softy I’ll just get emotional seeing ppl...</td>\n      <td>0</td>\n      <td>1 year ago</td>\n    </tr>\n    <tr>\n      <th>435</th>\n      <td>@JJ_LL</td>\n      <td>They can trademark Hopscotch??????? I see laws...</td>\n      <td>0</td>\n      <td>1 year ago</td>\n    </tr>\n    <tr>\n      <th>876</th>\n      <td>@tashisherpa6327</td>\n      <td>Do some historical research first, you don't k...</td>\n      <td>0</td>\n      <td>1 year ago</td>\n    </tr>\n  </tbody>\n</table>\n<p>877 rows × 4 columns</p>\n</div>"
     },
     "execution_count": 6,
     "metadata": {},
     "output_type": "execute_result"
    }
   ],
   "source": [
    "#sort by highest \"likes\" column\n",
    "data.sort_values(by='likes', ascending=False)\n"
   ],
   "metadata": {
    "collapsed": false,
    "ExecuteTime": {
     "end_time": "2024-03-03T08:27:06.522315Z",
     "start_time": "2024-03-03T08:27:06.501336Z"
    }
   },
   "id": "383d65b397038817",
   "execution_count": 6
  },
  {
   "cell_type": "code",
   "outputs": [
    {
     "name": "stdout",
     "output_type": "stream",
     "text": [
      "One of the sweetest entrepreneurs. It's so cute to see Mark actually get excited about things like this. Like an inner child. He really wants a deal with this. You can see it in his eyes.\n",
      "\n",
      "\n",
      "Mark really liked her. He even said no to negotiation then let her negotiate. On her part she's very sweet and very determined. I've watched this pitch before but I enjoyed watching it again. So wholesome.\n",
      "\n",
      "\n",
      "I've gotta say, her initial counter really caught me off guard but I respect her confidence and courage\n",
      "\n",
      "\n",
      "Who else turns on shark tank while they eat lunch?\n",
      "\n",
      "\n",
      "Mark: This program is great, my kids love it, my dog loves it, this will create world peace\n",
      "\n",
      "Kevin: So how do I make money?\n",
      "\n",
      "\n",
      "Her initial counter almost cost her everything. I’m glad she got the deal with Mark. He’s a great human being.\n",
      "\n",
      "\n",
      "Awesome in so many ways: her, for standing her ground and being confident. . . Damon, for jumping in and giving her a subtle clue and Mark for demonstrating that sometimes you can be motivated by family and not just the money.\n",
      "\n",
      "\n",
      "She goofed up when she said 5% but, being a thorough entrepreneur she realized that and quickly said 10% and Mark being Mark, he does anything and everything for the kids. That's win win for both of them. Kudos to the negotiating skills even after everyone else had been out.\n",
      "\n",
      "\n",
      "Is this the first time I’ve seen Mark actually give in to negotiations? “Don’t over negotiate!” Then snap accepts her counter. I love it!\n",
      "\n",
      "\n",
      "It's wonderful and hilarious how she went down the line and complimented each of their drawings and they seemed to find some real joy and pride in that, we never do grow up, do we?\n"
     ]
    }
   ],
   "source": [
    "# take the top 10 rows of the comment column and print one by one\n",
    "for i in range(10):\n",
    "    print(data['comment'][i])\n",
    "    print('\\n')"
   ],
   "metadata": {
    "collapsed": false,
    "ExecuteTime": {
     "end_time": "2024-03-03T08:28:48.509468Z",
     "start_time": "2024-03-03T08:28:48.503726Z"
    }
   },
   "id": "54ae6d9ac11120d6",
   "execution_count": 11
  },
  {
   "cell_type": "code",
   "outputs": [],
   "source": [],
   "metadata": {
    "collapsed": false
   },
   "id": "8d3b98d3c13a7122"
  }
 ],
 "metadata": {
  "kernelspec": {
   "display_name": "Python 3",
   "language": "python",
   "name": "python3"
  },
  "language_info": {
   "codemirror_mode": {
    "name": "ipython",
    "version": 2
   },
   "file_extension": ".py",
   "mimetype": "text/x-python",
   "name": "python",
   "nbconvert_exporter": "python",
   "pygments_lexer": "ipython2",
   "version": "2.7.6"
  }
 },
 "nbformat": 4,
 "nbformat_minor": 5
}
